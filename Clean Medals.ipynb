{
 "cells": [
  {
   "cell_type": "code",
   "execution_count": 2,
   "id": "5a4d5a17-378b-4661-89f8-9cac759839ee",
   "metadata": {},
   "outputs": [],
   "source": [
    "import pandas as pd\n",
    "medals = pd.read_csv('2025_Problem_C_Data/summerOly_medal_counts.csv')"
   ]
  },
  {
   "cell_type": "code",
   "execution_count": 5,
   "id": "2db31023-2315-4125-95a6-cc399da28eac",
   "metadata": {},
   "outputs": [],
   "source": [
    "medals.rename({\"NOC\": \"Country\"}, axis = 1, inplace = True)"
   ]
  },
  {
   "cell_type": "code",
   "execution_count": 11,
   "id": "11baf3b9-7e4d-452e-a82f-5083194bcfaa",
   "metadata": {},
   "outputs": [],
   "source": [
    "medals[\"Country\"].str.strip()\n",
    "medals[\"Country\"] = medals[\"Country\"].str.replace(\"\\xa0\", \"\")\n",
    "#medals[\"Country\"].unique()"
   ]
  },
  {
   "cell_type": "code",
   "execution_count": 13,
   "id": "e458cb1e-c257-479c-8f3f-596807a0c214",
   "metadata": {},
   "outputs": [],
   "source": [
    "medals[\"Country\"] = medals[\"Country\"].replace({\"Ceylon\" : \"Sri Lanka\", \"Bahamas\": \"The Bahamas\", \"British West Indies\": \"West Indies Federation\", \"Czech Republic\": \"Czechia\", \"FR Yugoslavia\": \"Yugoslavia\", \"Formosa\": \"Chinese Taipei\",\n",
    "                                              \"Independent Olympic Participants\": \"Yugoslavia\", \"Macedonia\": \"North Macedonia\", \"Russian Empire\": \"Russia\",\n",
    "                                              \"South Korea\": \"Korea\", \"United Team of Germany\": \"Germany\"})"
   ]
  },
  {
   "cell_type": "code",
   "execution_count": null,
   "id": "27e537d0-c9c4-4036-81e3-ad5d13382bde",
   "metadata": {},
   "outputs": [],
   "source": []
  }
 ],
 "metadata": {
  "kernelspec": {
   "display_name": "Python 3 (ipykernel)",
   "language": "python",
   "name": "python3"
  },
  "language_info": {
   "codemirror_mode": {
    "name": "ipython",
    "version": 3
   },
   "file_extension": ".py",
   "mimetype": "text/x-python",
   "name": "python",
   "nbconvert_exporter": "python",
   "pygments_lexer": "ipython3",
   "version": "3.9.19"
  }
 },
 "nbformat": 4,
 "nbformat_minor": 5
}
