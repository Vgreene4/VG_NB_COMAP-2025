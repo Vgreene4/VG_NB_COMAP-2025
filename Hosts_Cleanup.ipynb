{
 "cells": [
  {
   "cell_type": "code",
   "execution_count": 2,
   "id": "6287dd07-f33b-4820-abd7-42cc3d3024d9",
   "metadata": {},
   "outputs": [],
   "source": [
    "import pandas as pd\n",
    "\n",
    "hosts = pd.read_csv(\"summerOLY_hosts.csv\")\n",
    "countries = pd.read_csv(\"countries.csv\")\n",
    "hosts[\"Host\"] = hosts[\"Host\"].str.split(\",\").apply(lambda x: x[-1])"
   ]
  },
  {
   "cell_type": "code",
   "execution_count": 3,
   "id": "8efe7728-0897-4ff5-96fc-9971274b44f7",
   "metadata": {},
   "outputs": [],
   "source": [
    "hosts[\"Host\"] = hosts[\"Host\"].astype(\"str\").str.strip()\n",
    "countries[\"Country\"] = countries[\"Country\"].astype(\"str\").str.strip()"
   ]
  },
  {
   "cell_type": "code",
   "execution_count": 4,
   "id": "f31a370d-2e57-49ac-bc4e-6ea83302ace4",
   "metadata": {},
   "outputs": [],
   "source": [
    "hosts_merged = hosts.merge(countries, how = \"left\", left_on = \"Host\", right_on = \"Country\")"
   ]
  },
  {
   "cell_type": "code",
   "execution_count": 5,
   "id": "4b306b43-3a7e-47fe-ac49-60a8b595d5a1",
   "metadata": {},
   "outputs": [],
   "source": [
    "hosts_merged.drop([\"Country\"], axis = 1, inplace = True)\n",
    "#hosts_merged.head(100)"
   ]
  },
  {
   "cell_type": "code",
   "execution_count": 6,
   "id": "5049441c-7223-4ecd-8cd2-d7459f8e9e60",
   "metadata": {},
   "outputs": [],
   "source": [
    "hosts_merged.head(100)\n",
    "hosts_merged.loc[[3, 13, 29], \"Host\"] = \"Great Britain\"\n",
    "hosts_merged.loc[[3, 13, 29], \"NOC\"] = \"GBR\"\n",
    "hosts_merged.loc[23, \"Host\"] = \"Korea\"\n",
    "hosts_merged.loc[23, \"NOC\"] = \"KOR\"\n",
    "#hosts_merged.head(100)"
   ]
  },
  {
   "cell_type": "code",
   "execution_count": 7,
   "id": "d39156ac-81cc-4166-8041-4a9aac5f2971",
   "metadata": {},
   "outputs": [],
   "source": [
    "hosts_merged.to_csv(\"summerOLY_hosts_clean.csv\")"
   ]
  },
  {
   "cell_type": "code",
   "execution_count": null,
   "id": "075f02b0-0460-4330-af54-ee04c6b2d2d8",
   "metadata": {},
   "outputs": [],
   "source": []
  }
 ],
 "metadata": {
  "kernelspec": {
   "display_name": "Python 3 (ipykernel)",
   "language": "python",
   "name": "python3"
  },
  "language_info": {
   "codemirror_mode": {
    "name": "ipython",
    "version": 3
   },
   "file_extension": ".py",
   "mimetype": "text/x-python",
   "name": "python",
   "nbconvert_exporter": "python",
   "pygments_lexer": "ipython3",
   "version": "3.9.19"
  }
 },
 "nbformat": 4,
 "nbformat_minor": 5
}
